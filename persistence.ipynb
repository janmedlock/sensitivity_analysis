{
 "cells": [
  {
   "cell_type": "markdown",
   "metadata": {},
   "source": [
    "How should we handle a stochastic model? In computing the sensitivity measures, is it sufficient to run the model *once* for each sample parameter set, should we use an average over many runs for each sample parameter set, or maybe even just a few runs for each parameter set?\n",
    "* Try this same sort of analysis using persistence time (and maybe mean number infected over 10 years) as the model outcome."
   ]
  },
  {
   "cell_type": "markdown",
   "metadata": {},
   "source": [
    "# Persistence time of a general epidemic\n",
    "\n",
    "The stochastic general epidemic model with counts $(S, I, R)$ of the number of people susceptible, infectious, and recovered, has events:\n",
    "\n",
    "* Birth: $(S, I, R) \\to (S + 1, I, R)$ with hazard $\\mu N$;\n",
    "* Death of a susceptible: $(S, I, R) \\to (S - 1, I, R)$ with hazard $\\mu S$;\n",
    "* Death of an infectious: $(S, I, R) \\to (S, I - 1, R)$ with hazard $\\mu I$;\n",
    "* Death of a recovered: $(S, I, R) \\to (S, I, R - 1)$ with hazard $\\mu R$;\n",
    "* Infection: $(S, I, R) \\to (S - 1, I + 1, R)$ with hazard $\\frac{\\beta I}{N} S$; and\n",
    "* Recovery: $(S, I, R) \\to (S, I - 1, R + 1)$ with hazard $\\gamma I$;\n",
    "\n",
    "where $N = S + I + R$.\n",
    "\n",
    "The basic reproduction number is\n",
    "$$R_0 = \\frac{\\beta}{\\gamma + \\mu}.$$\n",
    "\n",
    "We will use the endemic equilibrium of the deterministic model\n",
    "$$\\begin{aligned}\n",
    "\\frac{\\mathrm{d} S}{\\mathrm{d} t} &= \\mu N - \\frac{\\beta I}{N} S - \\mu S,\\\\\n",
    "\\frac{\\mathrm{d} I}{\\mathrm{d} t} &= \\frac{\\beta I}{N} S - \\gamma I - \\mu I,\\\\\n",
    "\\frac{\\mathrm{d} R}{\\mathrm{d} t} &= \\gamma I - \\mu R,\n",
    "\\end{aligned}$$\n",
    "as the expected value of a multinomial distribution to determine the initial condition for the stochastic model:\n",
    "$$\\left(S(0), I(0), R(0)\\right)\n",
    "= \\mathrm{Multinomial}(N_0, p),$$\n",
    "where\n",
    "$$p = \\left(\\frac{1}{R_0},\n",
    "            \\frac{\\mu}{\\beta}\\left(R_0 - 1\\right),\n",
    "            \\frac{\\gamma}{\\beta}\\left(R_0 - 1\\right)\\right),$$\n",
    "and $N_0$ is the initial population size.\n",
    "We will resample from this multinomial we get an initial condition with $I(0) > 0$.\n",
    "\n",
    "We will simulate the stochastic model using the Gillespie algorithm.\n",
    "\n",
    "For each simulation, we will find the extinction time, the first time with $I(t) = 0$."
   ]
  },
  {
   "cell_type": "code",
   "execution_count": 1,
   "metadata": {},
   "outputs": [],
   "source": [
    "import joblib\n",
    "import numpy\n",
    "from scipy import stats\n",
    "\n",
    "import sensitivity_analysis"
   ]
  },
  {
   "cell_type": "code",
   "execution_count": 30,
   "metadata": {},
   "outputs": [],
   "source": [
    "def get_R_0(beta, gamma, mu, N):\n",
    "    return beta / (gamma + mu)\n",
    "\n",
    "\n",
    "def initial_state(beta, gamma, mu, N_0, rng):\n",
    "    '''Generate a random initial `state`.'''\n",
    "    R_0 = get_R_0(beta, gamma, mu, N_0)\n",
    "    p = numpy.array((1 / R_0,                    # S\n",
    "                     mu / beta * (R_0 - 1),      # I\n",
    "                     gamma / beta * (R_0 - 1)))  # R\n",
    "    # If R_0 > 1, resample to get I > 0.\n",
    "    while True:\n",
    "        state = rng.multinomial(N_0, p)\n",
    "        (S, I, R) = state\n",
    "        if (R_0 <= 1) or (I > 0):\n",
    "            break\n",
    "    return state\n",
    "\n",
    "\n",
    "# The transitions that can occur and how they change `state`.\n",
    "transitions = numpy.array((\n",
    "    (+1, 0, 0),   # Birth\n",
    "    (-1, 0, 0),   # Death of S\n",
    "    (0, -1, 0),   # Death of I\n",
    "    (0, 0, -1),   # Death of R\n",
    "    (-1, +1, 0),  # Infection\n",
    "    (0, -1, +1),  # Recovery\n",
    "))\n",
    "\n",
    "\n",
    "def update_hazards(hazards, t, state, beta, gamma, mu):\n",
    "    '''Update `hazards` for the current state and time.'''\n",
    "    (S, I, R) = state\n",
    "    N = state.sum()\n",
    "    # `hazards` must be in the same order as `transitions`.\n",
    "    hazards[:] = (\n",
    "        mu * N,            # Birth\n",
    "        mu * S,            # Death of S\n",
    "        mu * I,            # Death of I\n",
    "        mu * R,            # Death of R\n",
    "        beta * I / N * S,  # Infection\n",
    "        gamma * I,         # Recovery\n",
    "    )\n",
    "\n",
    "\n",
    "def stop(t, state):\n",
    "    '''The stopping condition for the simulation.'''\n",
    "    (S, I, R) = state\n",
    "    return (I == 0)\n",
    "\n",
    "\n",
    "def get_persistence_time(beta, gamma, mu, N_0=1000, seed=None):\n",
    "    '''Simulate the persistence time for a stochastic general SIR model.'''\n",
    "    rng = numpy.random.default_rng(seed)\n",
    "    t = 0\n",
    "    state = initial_state(beta, gamma, mu, N_0, rng)\n",
    "    # Build empty vectors that will get updated in each step.\n",
    "    n_transitions = len(transitions)\n",
    "    hazards = numpy.empty(n_transitions, dtype=float)\n",
    "    hazards_scaled = numpy.empty(n_transitions, dtype=float)\n",
    "    while not numpy.isposinf(t) and not stop(t, state):\n",
    "        update_hazards(hazards, t, state, beta, gamma, mu)\n",
    "        # Find the time to the next event.\n",
    "        hazard_total = hazards.sum()\n",
    "        if hazard_total > 0:\n",
    "            t += rng.exponential(1 / hazard_total)\n",
    "            # Find which of the events occurred.\n",
    "            # Scale the hazards so that they sum to 1.\n",
    "            hazards_scaled[:] = hazards / hazard_total\n",
    "            which = rng.choice(n_transitions, p=hazards_scaled)\n",
    "            state += transitions[which]\n",
    "        else:  # hazard_total == 0\n",
    "            # Check that we don't have hazard_total < 0.\n",
    "            assert numpy.isclose(hazard_total, 0)\n",
    "            t = numpy.PINF\n",
    "    return t"
   ]
  },
  {
   "cell_type": "code",
   "execution_count": 31,
   "metadata": {},
   "outputs": [
    {
     "data": {
      "text/plain": [
       "2171.1930732740902"
      ]
     },
     "execution_count": 31,
     "metadata": {},
     "output_type": "execute_result"
    }
   ],
   "source": [
    "get_persistence_time(0.012, 0.01, 0.001, seed=1)"
   ]
  },
  {
   "cell_type": "markdown",
   "metadata": {},
   "source": [
    "Let's take the parameters to be the random variables\n",
    "$$\\begin{aligned}\n",
    "\\beta &\\sim \\Gamma(0.03, 4),\\\\\n",
    "\\gamma &\\sim \\Gamma(0.01, 4),\\\\\n",
    "\\mu &\\sim \\Gamma(0.001, 4),\n",
    "\\end{aligned}$$\n",
    "where $\\Gamma(a, k)$ is the gamma random variable with mean $a$ and shape $k$."
   ]
  },
  {
   "cell_type": "code",
   "execution_count": 32,
   "metadata": {},
   "outputs": [],
   "source": [
    "def gamma_from_mean_and_shape(mean, shape):\n",
    "    '''Generate a gamma random variable with the given mean and shape.'''\n",
    "    scale = mean / shape\n",
    "    return stats.gamma(shape, scale=scale)\n",
    "\n",
    "\n",
    "transmission_rate = gamma_from_mean_and_shape(0.03, 4)\n",
    "recovery_rate = gamma_from_mean_and_shape(0.01, 4)\n",
    "death_rate = gamma_from_mean_and_shape(0.001, 4)\n",
    "parameters = dict(beta=transmission_rate,\n",
    "                  gamma=recovery_rate,\n",
    "                  mu=death_rate)"
   ]
  },
  {
   "cell_type": "code",
   "execution_count": 33,
   "metadata": {},
   "outputs": [],
   "source": [
    "def get_persistence_times(beta, gamma, mu, seed=None, n_jobs=-1):\n",
    "    '''Get the simulated persistence time for sequences of parameters.'''\n",
    "    if isinstance(seed, numpy.random.SeedSequence):\n",
    "        seed_seq = seed\n",
    "    else:\n",
    "        seed_seq = numpy.random.SeedSequence(entropy=seed)\n",
    "    n_samples = len(beta)\n",
    "    seeds = seed_seq.spawn(n_samples)\n",
    "    with joblib.Parallel(n_jobs=n_jobs) as parallel:\n",
    "        return parallel(\n",
    "            joblib.delayed(get_persistence_time)(*args, seed=seed)\n",
    "            for (*args, seed) in zip(beta, gamma, mu, seeds))"
   ]
  },
  {
   "cell_type": "code",
   "execution_count": 34,
   "metadata": {},
   "outputs": [
    {
     "data": {
      "text/plain": [
       "[251172.00803770928, 105906.80374117418]"
      ]
     },
     "execution_count": 34,
     "metadata": {},
     "output_type": "execute_result"
    }
   ],
   "source": [
    "n_samples = 2\n",
    "seed_seq = numpy.random.SeedSequence(1)\n",
    "seeds = seed_seq.spawn(2)\n",
    "samples = sensitivity_analysis.samples_Latin_hypercube(parameters, n_samples, seed=seeds[0])\n",
    "persistence_times = get_persistence_times(**samples, seed=seeds[1])\n",
    "persistence_times"
   ]
  },
  {
   "cell_type": "code",
   "execution_count": null,
   "metadata": {},
   "outputs": [],
   "source": []
  }
 ],
 "metadata": {
  "kernelspec": {
   "display_name": "Python 3",
   "language": "python",
   "name": "python3"
  },
  "language_info": {
   "codemirror_mode": {
    "name": "ipython",
    "version": 3
   },
   "file_extension": ".py",
   "mimetype": "text/x-python",
   "name": "python",
   "nbconvert_exporter": "python",
   "pygments_lexer": "ipython3",
   "version": "3.8.5"
  }
 },
 "nbformat": 4,
 "nbformat_minor": 4
}
