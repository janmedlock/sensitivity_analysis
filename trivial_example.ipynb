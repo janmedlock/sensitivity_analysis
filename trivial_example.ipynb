{
 "cells": [
  {
   "cell_type": "markdown",
   "metadata": {},
   "source": [
    "# Saltelli's example (1.3) & (1.27), Table 1.5."
   ]
  },
  {
   "cell_type": "code",
   "execution_count": 23,
   "metadata": {},
   "outputs": [],
   "source": [
    "import pandas\n",
    "from scipy import stats\n",
    "\n",
    "import sensitivity_analysis"
   ]
  },
  {
   "cell_type": "code",
   "execution_count": 24,
   "metadata": {},
   "outputs": [],
   "source": [
    "def model(Z_0, Z_1, Z_2, Z_3, Ω_0, Ω_1, Ω_2, Ω_3):\n",
    "    return (Ω_0 * Z_0 + Ω_1 * Z_1 + Ω_2 * Z_2 + Ω_3 * Z_3)\n",
    "\n",
    "\n",
    "Z = {f'Z_{i}': stats.norm(0, i + 1)\n",
    "     for i in range(4)}\n",
    "Ω = {f'Ω_{i}': stats.norm((i + 1) * 0.5, i + 1) \n",
    "         for i in range(4)}\n",
    "parameters = dict(**Z, **Ω)"
   ]
  },
  {
   "cell_type": "code",
   "execution_count": 25,
   "metadata": {},
   "outputs": [
    {
     "data": {
      "text/html": [
       "<style  type=\"text/css\" >\n",
       "    #T_d60788cc_c02a_11ea_bafb_28c63f517e35row8_col0 {\n",
       "            font-weight:  bold;\n",
       "        }    #T_d60788cc_c02a_11ea_bafb_28c63f517e35row8_col1 {\n",
       "            font-weight:  bold;\n",
       "        }    #T_d60788cc_c02a_11ea_bafb_28c63f517e35row8_col2 {\n",
       "            font-weight:  bold;\n",
       "        }    #T_d60788cc_c02a_11ea_bafb_28c63f517e35row8_col3 {\n",
       "            font-weight:  bold;\n",
       "        }</style><table id=\"T_d60788cc_c02a_11ea_bafb_28c63f517e35\" ><thead>    <tr>        <th class=\"blank level0\" ></th>        <th class=\"col_heading level0 col0\" colspan=2>First-order index ($S$)</th>        <th class=\"col_heading level0 col2\" colspan=2>Total-order index ($S_T$)</th>    </tr>    <tr>        <th class=\"blank level1\" ></th>        <th class=\"col_heading level1 col0\" >Estimate</th>        <th class=\"col_heading level1 col1\" >50% probable error</th>        <th class=\"col_heading level1 col2\" >Estimate</th>        <th class=\"col_heading level1 col3\" >50% probable error</th>    </tr></thead><tbody>\n",
       "                <tr>\n",
       "                        <th id=\"T_d60788cc_c02a_11ea_bafb_28c63f517e35level0_row0\" class=\"row_heading level0 row0\" >Z_0</th>\n",
       "                        <td id=\"T_d60788cc_c02a_11ea_bafb_28c63f517e35row0_col0\" class=\"data row0 col0\" >0.00246259</td>\n",
       "                        <td id=\"T_d60788cc_c02a_11ea_bafb_28c63f517e35row0_col1\" class=\"data row0 col1\" >0.00327467</td>\n",
       "                        <td id=\"T_d60788cc_c02a_11ea_bafb_28c63f517e35row0_col2\" class=\"data row0 col2\" >0.00864309</td>\n",
       "                        <td id=\"T_d60788cc_c02a_11ea_bafb_28c63f517e35row0_col3\" class=\"data row0 col3\" >0.00802353</td>\n",
       "            </tr>\n",
       "            <tr>\n",
       "                        <th id=\"T_d60788cc_c02a_11ea_bafb_28c63f517e35level0_row1\" class=\"row_heading level0 row1\" >Z_1</th>\n",
       "                        <td id=\"T_d60788cc_c02a_11ea_bafb_28c63f517e35row1_col0\" class=\"data row1 col0\" >0.0111605</td>\n",
       "                        <td id=\"T_d60788cc_c02a_11ea_bafb_28c63f517e35row1_col1\" class=\"data row1 col1\" >0.00329206</td>\n",
       "                        <td id=\"T_d60788cc_c02a_11ea_bafb_28c63f517e35row1_col2\" class=\"data row1 col2\" >0.0513251</td>\n",
       "                        <td id=\"T_d60788cc_c02a_11ea_bafb_28c63f517e35row1_col3\" class=\"data row1 col3\" >0.00794868</td>\n",
       "            </tr>\n",
       "            <tr>\n",
       "                        <th id=\"T_d60788cc_c02a_11ea_bafb_28c63f517e35level0_row2\" class=\"row_heading level0 row2\" >Z_2</th>\n",
       "                        <td id=\"T_d60788cc_c02a_11ea_bafb_28c63f517e35row2_col0\" class=\"data row2 col0\" >0.0452962</td>\n",
       "                        <td id=\"T_d60788cc_c02a_11ea_bafb_28c63f517e35row2_col1\" class=\"data row2 col1\" >0.00343173</td>\n",
       "                        <td id=\"T_d60788cc_c02a_11ea_bafb_28c63f517e35row2_col2\" class=\"data row2 col2\" >0.233293</td>\n",
       "                        <td id=\"T_d60788cc_c02a_11ea_bafb_28c63f517e35row2_col3\" class=\"data row2 col3\" >0.00759782</td>\n",
       "            </tr>\n",
       "            <tr>\n",
       "                        <th id=\"T_d60788cc_c02a_11ea_bafb_28c63f517e35level0_row3\" class=\"row_heading level0 row3\" >Z_3</th>\n",
       "                        <td id=\"T_d60788cc_c02a_11ea_bafb_28c63f517e35row3_col0\" class=\"data row3 col0\" >0.14006</td>\n",
       "                        <td id=\"T_d60788cc_c02a_11ea_bafb_28c63f517e35row3_col1\" class=\"data row3 col1\" >0.00468753</td>\n",
       "                        <td id=\"T_d60788cc_c02a_11ea_bafb_28c63f517e35row3_col2\" class=\"data row3 col2\" >0.725907</td>\n",
       "                        <td id=\"T_d60788cc_c02a_11ea_bafb_28c63f517e35row3_col3\" class=\"data row3 col3\" >0.00515668</td>\n",
       "            </tr>\n",
       "            <tr>\n",
       "                        <th id=\"T_d60788cc_c02a_11ea_bafb_28c63f517e35level0_row4\" class=\"row_heading level0 row4\" >Ω_0</th>\n",
       "                        <td id=\"T_d60788cc_c02a_11ea_bafb_28c63f517e35row4_col0\" class=\"data row4 col0\" >0.0021541</td>\n",
       "                        <td id=\"T_d60788cc_c02a_11ea_bafb_28c63f517e35row4_col1\" class=\"data row4 col1\" >0.00327433</td>\n",
       "                        <td id=\"T_d60788cc_c02a_11ea_bafb_28c63f517e35row4_col2\" class=\"data row4 col2\" >0.00809072</td>\n",
       "                        <td id=\"T_d60788cc_c02a_11ea_bafb_28c63f517e35row4_col3\" class=\"data row4 col3\" >0.00802448</td>\n",
       "            </tr>\n",
       "            <tr>\n",
       "                        <th id=\"T_d60788cc_c02a_11ea_bafb_28c63f517e35level0_row5\" class=\"row_heading level0 row5\" >Ω_1</th>\n",
       "                        <td id=\"T_d60788cc_c02a_11ea_bafb_28c63f517e35row5_col0\" class=\"data row5 col0\" >0.00134026</td>\n",
       "                        <td id=\"T_d60788cc_c02a_11ea_bafb_28c63f517e35row5_col1\" class=\"data row5 col1\" >0.00329034</td>\n",
       "                        <td id=\"T_d60788cc_c02a_11ea_bafb_28c63f517e35row5_col2\" class=\"data row5 col2\" >0.0413345</td>\n",
       "                        <td id=\"T_d60788cc_c02a_11ea_bafb_28c63f517e35row5_col3\" class=\"data row5 col3\" >0.00797918</td>\n",
       "            </tr>\n",
       "            <tr>\n",
       "                        <th id=\"T_d60788cc_c02a_11ea_bafb_28c63f517e35level0_row6\" class=\"row_heading level0 row6\" >Ω_2</th>\n",
       "                        <td id=\"T_d60788cc_c02a_11ea_bafb_28c63f517e35row6_col0\" class=\"data row6 col0\" >0.00619773</td>\n",
       "                        <td id=\"T_d60788cc_c02a_11ea_bafb_28c63f517e35row6_col1\" class=\"data row6 col1\" >0.00342319</td>\n",
       "                        <td id=\"T_d60788cc_c02a_11ea_bafb_28c63f517e35row6_col2\" class=\"data row6 col2\" >0.191577</td>\n",
       "                        <td id=\"T_d60788cc_c02a_11ea_bafb_28c63f517e35row6_col3\" class=\"data row6 col3\" >0.00756549</td>\n",
       "            </tr>\n",
       "            <tr>\n",
       "                        <th id=\"T_d60788cc_c02a_11ea_bafb_28c63f517e35level0_row7\" class=\"row_heading level0 row7\" >Ω_3</th>\n",
       "                        <td id=\"T_d60788cc_c02a_11ea_bafb_28c63f517e35row7_col0\" class=\"data row7 col0\" >0.00270824</td>\n",
       "                        <td id=\"T_d60788cc_c02a_11ea_bafb_28c63f517e35row7_col1\" class=\"data row7 col1\" >0.00471863</td>\n",
       "                        <td id=\"T_d60788cc_c02a_11ea_bafb_28c63f517e35row7_col2\" class=\"data row7 col2\" >0.587717</td>\n",
       "                        <td id=\"T_d60788cc_c02a_11ea_bafb_28c63f517e35row7_col3\" class=\"data row7 col3\" >0.00520504</td>\n",
       "            </tr>\n",
       "            <tr>\n",
       "                        <th id=\"T_d60788cc_c02a_11ea_bafb_28c63f517e35level0_row8\" class=\"row_heading level0 row8\" >Sum</th>\n",
       "                        <td id=\"T_d60788cc_c02a_11ea_bafb_28c63f517e35row8_col0\" class=\"data row8 col0\" >0.21138</td>\n",
       "                        <td id=\"T_d60788cc_c02a_11ea_bafb_28c63f517e35row8_col1\" class=\"data row8 col1\" ></td>\n",
       "                        <td id=\"T_d60788cc_c02a_11ea_bafb_28c63f517e35row8_col2\" class=\"data row8 col2\" >1.84789</td>\n",
       "                        <td id=\"T_d60788cc_c02a_11ea_bafb_28c63f517e35row8_col3\" class=\"data row8 col3\" ></td>\n",
       "            </tr>\n",
       "    </tbody></table>"
      ],
      "text/plain": [
       "<pandas.io.formats.style.Styler at 0x7f31a9f0a100>"
      ]
     },
     "metadata": {},
     "output_type": "display_data"
    }
   ],
   "source": [
    "def bold_sum(s):\n",
    "    '''Made the 'Sum' row bold.'''\n",
    "    is_sum = (s.index == 'Sum')\n",
    "    return ['font-weight: bold' if v else '' for v in is_sum]\n",
    "\n",
    "\n",
    "def display_Sobol_indexes(S, S_PE, S_T, S_T_PE, alpha=0.5):\n",
    "    '''Display the Sobol' indexes S and S_T in a nice table.'''\n",
    "    table = pandas.concat((S, S_PE, S_T, S_T_PE), axis='columns')\n",
    "    CI_percent = 100 * (1 - alpha)\n",
    "    columns = pandas.MultiIndex.from_product(\n",
    "        (('First-order index ($S$)', 'Total-order index ($S_T$)'),\n",
    "         ('Estimate', f'{CI_percent:g}% probable error')))\n",
    "    table.set_axis(columns, axis='columns', inplace=True)\n",
    "    table.loc['Sum'] = table.sum()\n",
    "    # Don't show the sum of the probable errors.\n",
    "    estimates = (columns.get_level_values(1) == 'Estimate')\n",
    "    table.loc['Sum', ~estimates] = ''\n",
    "    display(table.style.apply(bold_sum))\n",
    "\n",
    "\n",
    "n_samples = 40000\n",
    "(S, S_PE, S_T, S_T_PE) = sensitivity_analysis.sobol_index.get_indexes(\n",
    "    model, parameters, n_samples)\n",
    "display_Sobol_indexes(S, S_PE, S_T, S_T_PE)"
   ]
  },
  {
   "cell_type": "code",
   "execution_count": null,
   "metadata": {},
   "outputs": [],
   "source": []
  }
 ],
 "metadata": {
  "kernelspec": {
   "display_name": "Python 3",
   "language": "python",
   "name": "python3"
  },
  "language_info": {
   "codemirror_mode": {
    "name": "ipython",
    "version": 3
   },
   "file_extension": ".py",
   "mimetype": "text/x-python",
   "name": "python",
   "nbconvert_exporter": "python",
   "pygments_lexer": "ipython3",
   "version": "3.8.4rc1"
  }
 },
 "nbformat": 4,
 "nbformat_minor": 4
}
