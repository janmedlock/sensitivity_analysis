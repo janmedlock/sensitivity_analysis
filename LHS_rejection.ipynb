{
 "cells": [
  {
   "cell_type": "markdown",
   "metadata": {},
   "source": [
    "Can we devise a scheme to iteratively improve a Latin Hypercube Samples until all of them satisfy some joint condition?\n",
    "\n",
    "For our transmission models, we are thinking of the parameters as independent, but then we want to restrict to parameter sets where $R_0 > 1$.\n",
    "\n",
    "Can we just rebuild all the LHS samples until all of them satisfy $R_0 > 1$? This may get less feasible as the number of samples increases.\n",
    "\n",
    "Can we iteratively refine the LHS samples until all of them satisfy $R_0 > 1$? If $N$ of the LHS samples have $R_0 < 1$, can we reshuffle just those or those plus a few ($N$?) with $R_0 > 1$ until all of the samples have $R_0 > 1$?"
   ]
  },
  {
   "cell_type": "code",
   "execution_count": null,
   "metadata": {},
   "outputs": [],
   "source": []
  }
 ],
 "metadata": {
  "kernelspec": {
   "display_name": "Python 3",
   "language": "python",
   "name": "python3"
  },
  "language_info": {
   "codemirror_mode": {
    "name": "ipython",
    "version": 3
   },
   "file_extension": ".py",
   "mimetype": "text/x-python",
   "name": "python",
   "nbconvert_exporter": "python",
   "pygments_lexer": "ipython3",
   "version": "3.8.5"
  }
 },
 "nbformat": 4,
 "nbformat_minor": 4
}
