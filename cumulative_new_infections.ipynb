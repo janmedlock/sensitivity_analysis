{
 "cells": [
  {
   "cell_type": "markdown",
   "metadata": {},
   "source": [
    "How should we handle a stochastic model? In computing the sensitivity measures, is it sufficient to run the model *once* for each sample parameter set, should we use an average over many runs for each sample parameter set, or maybe even just a few runs for each parameter set?"
   ]
  },
  {
   "cell_type": "markdown",
   "metadata": {},
   "source": [
    "# Cumulative new infections of a general epidemic\n",
    "\n",
    "The stochastic general epidemic model with counts $(S, I, R, C)$ of the number of people susceptible, infectious, recovered, and cumulative new infections, has events:\n",
    "\n",
    "* Birth: $(S, I, R, C) \\to (S + 1, I, R, C)$ with hazard $\\mu N$;\n",
    "* Death of a susceptible: $(S, I, R, C) \\to (S - 1, I, R, C)$ with hazard $\\mu S$;\n",
    "* Death of an infectious: $(S, I, R, C) \\to (S, I - 1, R, C)$ with hazard $\\mu I$;\n",
    "* Death of a recovered: $(S, I, R, C) \\to (S, I, R - 1, C)$ with hazard $\\mu R$;\n",
    "* Infection: $(S, I, R, C) \\to (S - 1, I + 1, R, C + 1)$ with hazard $\\frac{\\beta I}{N} S$; and\n",
    "* Recovery: $(S, I, R, C) \\to (S, I - 1, R + 1, C)$ with hazard $\\gamma I$;\n",
    "\n",
    "where $N = S + I + R$.\n",
    "\n",
    "The basic reproduction number is\n",
    "$$R_0 = \\frac{\\beta}{\\gamma + \\mu}.$$\n",
    "\n",
    "When $R_0 > 1$, we will use the endemic equilibrium of the deterministic model\n",
    "$$\\begin{aligned}\n",
    "\\frac{\\mathrm{d} S}{\\mathrm{d} t} &= \\mu N - \\frac{\\beta I}{N} S - \\mu S,\\\\\n",
    "\\frac{\\mathrm{d} I}{\\mathrm{d} t} &= \\frac{\\beta I}{N} S - \\gamma I - \\mu I,\\\\\n",
    "\\frac{\\mathrm{d} R}{\\mathrm{d} t} &= \\gamma I - \\mu R,\n",
    "\\end{aligned}$$\n",
    "as the expected value of a multinomial distribution to determine the initial condition for the stochastic model:\n",
    "$$\\left(S(0), I(0), R(0), C(0)\\right)\n",
    "= \\mathrm{Multinomial}(N_0, p),$$\n",
    "where\n",
    "$$p = \\left(\\frac{1}{R_0},\n",
    "            \\frac{\\mu}{\\beta}\\left(R_0 - 1\\right),\n",
    "            \\frac{\\gamma}{\\beta}\\left(R_0 - 1\\right),\n",
    "            0\\right),$$\n",
    "and $N_0$ is the initial population size.\n",
    "We will resample from this multinomial until we get an initial condition with $I(0) > 0$.\n",
    "\n",
    "We will simulate the stochastic model using the Gillespie algorithm.\n",
    "\n",
    "For each simulation, we will find the extinction time, the first time with $I(t) = 0$."
   ]
  },
  {
   "cell_type": "code",
   "execution_count": 1,
   "metadata": {},
   "outputs": [],
   "source": [
    "import joblib\n",
    "import numpy\n",
    "import pandas\n",
    "from scipy import stats\n",
    "\n",
    "import sensitivity_analysis"
   ]
  },
  {
   "cell_type": "code",
   "execution_count": 2,
   "metadata": {},
   "outputs": [],
   "source": [
    "def get_R_0(beta, gamma, mu, N):\n",
    "    return beta / (gamma + mu)\n",
    "\n",
    "\n",
    "def initial_state(beta, gamma, mu, N_0, rng):\n",
    "    '''Generate a random initial `state`.'''\n",
    "    R_0 = get_R_0(beta, gamma, mu, N_0)\n",
    "    if R_0 > 1:\n",
    "        # The endemic equilibrium.\n",
    "        equilibrium = numpy.array((\n",
    "            1 / R_0 * N_0,                   # S                 \n",
    "            mu / beta * (R_0 - 1) * N_0,     # I\n",
    "            gamma / beta * (R_0 - 1) * N_0,  # R\n",
    "            0,                               # C\n",
    "        ))\n",
    "    else:\n",
    "        # The disease-free equilibrium.\n",
    "        equilibrium = numpy.array((\n",
    "            N_0,  # S                 \n",
    "            0,    # I\n",
    "            0,    # R\n",
    "            0,    # C\n",
    "        ))\n",
    "    # Fraction in each state.\n",
    "    p = equilibrium / equilibrium.sum()\n",
    "    # If R_0 > 1, resample to get I > 0.\n",
    "    while True:\n",
    "        state = rng.multinomial(N_0, p)\n",
    "        (S, I, R, C) = state\n",
    "        if (R_0 <= 1) or (I > 0):\n",
    "            break\n",
    "    return state\n",
    "\n",
    "\n",
    "# The transitions that can occur and how they change `state`.\n",
    "transitions = numpy.array((\n",
    "    (+1, 0, 0, 0),    # Birth\n",
    "    (-1, 0, 0, 0),    # Death of S\n",
    "    (0, -1, 0, 0),    # Death of I\n",
    "    (0, 0, -1, 0),    # Death of R\n",
    "    (-1, +1, 0, +1),  # Infection\n",
    "    (0, -1, +1, 0),   # Recovery\n",
    "))\n",
    "\n",
    "\n",
    "def update_hazards(hazards, t, state, beta, gamma, mu):\n",
    "    '''Update `hazards` for the current state and time.'''\n",
    "    (S, I, R, C) = state\n",
    "    N = S + I + R\n",
    "    # `hazards` must be in the same order as `transitions`.\n",
    "    hazards[:] = (\n",
    "        mu * N,            # Birth\n",
    "        mu * S,            # Death of S\n",
    "        mu * I,            # Death of I\n",
    "        mu * R,            # Death of R\n",
    "        beta * I / N * S,  # Infection\n",
    "        gamma * I,         # Recovery\n",
    "    )\n",
    "\n",
    "\n",
    "def stop(t, state, t_end):\n",
    "    '''The stopping condition for the simulation.'''\n",
    "    (S, I, R, C) = state\n",
    "    return (t >= t_end) or (I == 0)\n",
    "\n",
    "\n",
    "def get_cum_infections(beta, gamma, mu, N_0=1000, t_end=1000, seed=None):\n",
    "    '''Simulate the cumulative new infections for a stochastic general SIR model.'''\n",
    "    rng = numpy.random.default_rng(seed)\n",
    "    t = 0\n",
    "    state = initial_state(beta, gamma, mu, N_0, rng)\n",
    "    # Build empty vectors that will get updated in each step.\n",
    "    n_transitions = len(transitions)\n",
    "    hazards = numpy.empty(n_transitions, dtype=float)\n",
    "    hazards_scaled = numpy.empty(n_transitions, dtype=float)\n",
    "    while not numpy.isposinf(t) and not stop(t, state, t_end):\n",
    "        update_hazards(hazards, t, state, beta, gamma, mu)\n",
    "        # Find the time to the next event.\n",
    "        hazard_total = hazards.sum()\n",
    "        if hazard_total > 0:\n",
    "            t += rng.exponential(1 / hazard_total)\n",
    "            # Find which of the events occurred.\n",
    "            # Scale the hazards so that they sum to 1.\n",
    "            hazards_scaled[:] = hazards / hazard_total\n",
    "            which = rng.choice(n_transitions, p=hazards_scaled)\n",
    "            state += transitions[which]\n",
    "        else:  # hazard_total == 0\n",
    "            # Check that we don't have hazard_total < 0.\n",
    "            assert numpy.isclose(hazard_total, 0)\n",
    "            t = numpy.PINF\n",
    "    (S, I, R, C) = state\n",
    "    return C"
   ]
  },
  {
   "cell_type": "code",
   "execution_count": 3,
   "metadata": {},
   "outputs": [
    {
     "data": {
      "text/plain": [
       "159"
      ]
     },
     "execution_count": 3,
     "metadata": {},
     "output_type": "execute_result"
    }
   ],
   "source": [
    "get_cum_infections(0.012, 0.01, 0.001, seed=1)"
   ]
  },
  {
   "cell_type": "markdown",
   "metadata": {},
   "source": [
    "Let's take the parameters to be the random variables\n",
    "$$\\begin{aligned}\n",
    "\\beta &\\sim \\Gamma(0.03, 4),\\\\\n",
    "\\gamma &\\sim \\Gamma(0.01, 4),\\\\\n",
    "\\mu &\\sim \\Gamma(0.001, 4),\n",
    "\\end{aligned}$$\n",
    "where $\\Gamma(a, k)$ is the gamma random variable with mean $a$ and shape $k$."
   ]
  },
  {
   "cell_type": "code",
   "execution_count": 4,
   "metadata": {},
   "outputs": [],
   "source": [
    "def gamma_from_mean_and_shape(mean, shape):\n",
    "    '''Generate a gamma random variable with the given mean and shape.'''\n",
    "    scale = mean / shape\n",
    "    return stats.gamma(shape, scale=scale)\n",
    "\n",
    "\n",
    "parameters = dict(\n",
    "    beta=gamma_from_mean_and_shape(0.03, 4),\n",
    "    gamma=gamma_from_mean_and_shape(0.01, 4),\n",
    "    mu=gamma_from_mean_and_shape(0.001, 4),\n",
    ")"
   ]
  },
  {
   "cell_type": "code",
   "execution_count": 5,
   "metadata": {},
   "outputs": [],
   "source": [
    "def get_seed(seed_seq):\n",
    "    '''Helper function to spawn a single seed from a `numpy.random.SeedSequence()`.'''\n",
    "    return seed_seq.spawn(1)[0]\n",
    "\n",
    "\n",
    "def run_many(model, samples, seed=None, n_jobs=-1):\n",
    "    '''Run `model` for each of the `samples` parameter sets in parallel.'''\n",
    "    if isinstance(seed, numpy.random.SeedSequence):\n",
    "        seed_seq = seed\n",
    "    else:\n",
    "        seed_seq = numpy.random.SeedSequence(seed)\n",
    "    with joblib.Parallel(n_jobs=n_jobs) as parallel:\n",
    "        if isinstance(samples, pandas.DataFrame):\n",
    "            return parallel(\n",
    "                joblib.delayed(model)(**sample, seed=get_seed(seed_seq))\n",
    "                for (_, sample) in samples.iterrows())\n",
    "        else:\n",
    "            return parallel(\n",
    "                joblib.delayed(model)(*sample, seed=get_seed(seed_seq))\n",
    "                for sample in samples)"
   ]
  },
  {
   "cell_type": "code",
   "execution_count": 6,
   "metadata": {},
   "outputs": [
    {
     "data": {
      "text/plain": [
       "[894, 351, 545, 0, 238, 561, 1164, 297, 0, 536]"
      ]
     },
     "execution_count": 6,
     "metadata": {},
     "output_type": "execute_result"
    }
   ],
   "source": [
    "seed_seq = numpy.random.SeedSequence(1)\n",
    "samples = sensitivity_analysis.samples_Latin_hypercube(parameters,\n",
    "                                                       n_samples=10,\n",
    "                                                       seed=get_seed(seed_seq))\n",
    "cum_inf = run_many(get_cum_infections,\n",
    "                   samples,\n",
    "                   seed=get_seed(seed_seq))\n",
    "cum_inf"
   ]
  },
  {
   "cell_type": "code",
   "execution_count": 7,
   "metadata": {},
   "outputs": [
    {
     "data": {
      "text/plain": [
       "beta     0.378951\n",
       "gamma   -0.262476\n",
       "mu       0.573613\n",
       "dtype: float64"
      ]
     },
     "execution_count": 7,
     "metadata": {},
     "output_type": "execute_result"
    }
   ],
   "source": [
    "PRCC = sensitivity_analysis.PRCC_samples(samples, cum_inf)\n",
    "PRCC"
   ]
  },
  {
   "cell_type": "code",
   "execution_count": null,
   "metadata": {},
   "outputs": [],
   "source": []
  }
 ],
 "metadata": {
  "kernelspec": {
   "display_name": "Python 3",
   "language": "python",
   "name": "python3"
  },
  "language_info": {
   "codemirror_mode": {
    "name": "ipython",
    "version": 3
   },
   "file_extension": ".py",
   "mimetype": "text/x-python",
   "name": "python",
   "nbconvert_exporter": "python",
   "pygments_lexer": "ipython3",
   "version": "3.8.5"
  }
 },
 "nbformat": 4,
 "nbformat_minor": 4
}
